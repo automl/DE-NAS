{
 "cells": [
  {
   "cell_type": "code",
   "execution_count": 1,
   "metadata": {},
   "outputs": [],
   "source": [
    "import numpy as np\n",
    "seed = 0\n",
    "np.random.seed(0)\n",
    "\n",
    "\n",
    "def eggholder(x):\n",
    "    return (-(x[1] + 47) * np.sin(np.sqrt(abs(x[0]/2 + (x[1]  + 47)))) - \\\n",
    "            x[0] * np.sin(np.sqrt(abs(x[0] - (x[1]  + 47)))))\n",
    "\n",
    "bounds = [(-512, 512), (-512, 512)]"
   ]
  },
  {
   "cell_type": "code",
   "execution_count": 2,
   "metadata": {},
   "outputs": [],
   "source": [
    "import time\n",
    "\n",
    "def eggholder_objective(x):\n",
    "    '''Evaluates x on the eggholder function (minimizing)\n",
    "    \n",
    "    x: a list/array of length 2 with each value in [0, 1]\n",
    "    '''\n",
    "    start = time.time()\n",
    "    bound_range = [bounds[0][1] - bounds[0][0]]\n",
    "    bound_range.append(bounds[1][1] - bounds[1][0])\n",
    "    bound_min = [bounds[0][0]]\n",
    "    bound_min.append(bounds[1][0])\n",
    "    x_new = x.copy()\n",
    "    for i in range(len(x)):\n",
    "        x_new[i] = bound_min[i] + x[i] * bound_range[i]\n",
    "    \n",
    "    # the fitness which determines the selection process in DE\n",
    "    ## the lower the fitness value, the better is x adjudged to be\n",
    "    fitness = eggholder(x_new)\n",
    "    # runtime of objective, or None, or equivalent\n",
    "    cost = time.time() - start \n",
    "    \n",
    "    return fitness, cost"
   ]
  },
  {
   "cell_type": "code",
   "execution_count": null,
   "metadata": {},
   "outputs": [],
   "source": [
    "from denas import DE\n",
    "\n",
    "de = DE(\n",
    "    dimensions=len(bounds),\n",
    "    configspace=False,  # if passing a custom search space and not ConfigSpace\n",
    "    f=eggholder_objective,  # passing the objective function\n",
    "    pop_size=20,  # tunable hyperparameter (minimum limit determined by mutation strategy)\n",
    "    mutation_factor=0.5,  # tunable hyperparameter (determines exploration)\n",
    "    crossover_prob=0.5,  # tunable hyperparameter (determines exploitation)\n",
    "    strategy='rand1_bin',  # tunable hyperparameter (trades-off exploration-exploitation)\n",
    ")"
   ]
  },
  {
   "cell_type": "code",
   "execution_count": null,
   "metadata": {},
   "outputs": [],
   "source": [
    "trajectory, runtime, history = de.run(generations=1000, verbose=False, reset=True)\n",
    "print(de.inc_score, de.inc_config)\n",
    "print(sum(runtime))"
   ]
  },
  {
   "cell_type": "code",
   "execution_count": 3,
   "metadata": {},
   "outputs": [
    {
     "name": "stdout",
     "output_type": "stream",
     "text": [
      "CPU times: user 5 µs, sys: 2 µs, total: 7 µs\n",
      "Wall time: 11.7 µs\n"
     ]
    }
   ],
   "source": [
    "%%time\n",
    "\n",
    "### introducing sleep\n",
    "\n",
    "sleep_low = 0.2\n",
    "sleep_high = 0.5\n",
    "\n",
    "def eggholder_objective_sleep(x):\n",
    "    '''Evaluates x on the eggholder function (minimizing)\n",
    "    \n",
    "    x: a list/array of length 2 with each value in [0, 1]\n",
    "    '''\n",
    "    start = time.time()\n",
    "    bound_range = [bounds[0][1] - bounds[0][0]]\n",
    "    bound_range.append(bounds[1][1] - bounds[1][0])\n",
    "    bound_min = [bounds[0][0]]\n",
    "    bound_min.append(bounds[1][0])\n",
    "    x_new = x.copy()\n",
    "    for i in range(len(x)):\n",
    "        x_new[i] = bound_min[i] + x[i] * bound_range[i]\n",
    "    \n",
    "    # the fitness which determines the selection process in DE\n",
    "    ## the lower the fitness value, the better is x adjudged to be\n",
    "    fitness = eggholder(x_new)\n",
    "    time.sleep(np.random.uniform(low=sleep_low, high=sleep_high))\n",
    "    # runtime of objective, or None, or equivalent\n",
    "    cost = time.time() - start \n",
    "    \n",
    "    return fitness, cost"
   ]
  },
  {
   "cell_type": "code",
   "execution_count": null,
   "metadata": {},
   "outputs": [],
   "source": [
    "de = DE(\n",
    "    dimensions=len(bounds),\n",
    "    configspace=False,  # if passing a custom search space and not ConfigSpace\n",
    "    f=eggholder_objective_sleep,  # passing the objective function with sleep\n",
    "    pop_size=20,  # tunable hyperparameter (minimum limit determined by mutation strategy)\n",
    "    mutation_factor=0.5,  # tunable hyperparameter (determines exploration)\n",
    "    crossover_prob=0.5,  # tunable hyperparameter (determines exploitation)\n",
    "    strategy='rand1_bin',  # tunable hyperparameter (trades-off exploration-exploitation)\n",
    ")\n",
    "\n",
    "trajectory, runtime, history = de.run(generations=10, verbose=False, reset=True)\n",
    "print(de.inc_score, de.inc_config)\n",
    "print(sum(runtime))"
   ]
  },
  {
   "cell_type": "code",
   "execution_count": null,
   "metadata": {},
   "outputs": [],
   "source": []
  },
  {
   "cell_type": "code",
   "execution_count": null,
   "metadata": {},
   "outputs": [],
   "source": [
    "import time\n",
    "from denas import DE, PDE"
   ]
  },
  {
   "cell_type": "code",
   "execution_count": null,
   "metadata": {},
   "outputs": [],
   "source": [
    "# %%time\n",
    "\n",
    "de = PDE(\n",
    "    dimensions=len(bounds),\n",
    "    configspace=False,  # if passing a custom search space and not ConfigSpace\n",
    "    f=eggholder_objective_sleep,  # passing the objective function\n",
    "    pop_size=5,  # tunable hyperparameter (minimum limit determined by mutation strategy)\n",
    "    mutation_factor=0.5,  # tunable hyperparameter (determines exploration)\n",
    "    crossover_prob=0.5,  # tunable hyperparameter (determines exploitation)\n",
    "    strategy='rand1_bin',  # tunable hyperparameter (trades-off exploration-exploitation)\n",
    ")\n",
    "\n",
    "self = de\n",
    "self.population = self.init_population(self.pop_size)\n",
    "self.fitness = np.array([np.inf for i in range(self.pop_size)])\n",
    "self.age = np.array([self.max_age] * self.pop_size)\n",
    "traj = []\n",
    "runtime = []\n",
    "history = []\n",
    "results = []\n",
    "\n",
    "# self.client = client\n",
    "\n",
    "start = time.time()\n",
    "for i in range(self.pop_size):\n",
    "    config = self.population[i]\n",
    "    results.append(client.submit(self.f_objective, config))\n",
    "\n",
    "results = client.gather(results)\n",
    "    \n",
    "end = time.time() - start\n",
    "    \n",
    "for i in range(self.pop_size):\n",
    "    print(results[i])\n",
    "    \n",
    "print(\"\\nTime taken for parallel processing: {} seconds\".format(end))"
   ]
  },
  {
   "cell_type": "code",
   "execution_count": null,
   "metadata": {},
   "outputs": [],
   "source": []
  },
  {
   "cell_type": "code",
   "execution_count": null,
   "metadata": {},
   "outputs": [],
   "source": [
    "# %%time\n",
    "\n",
    "from dask import delayed\n",
    "\n",
    "start = time.time()\n",
    "\n",
    "de = DE(\n",
    "    dimensions=len(bounds),\n",
    "    configspace=False,  # if passing a custom search space and not ConfigSpace\n",
    "    f=eggholder_objective_sleep,  # passing the objective function\n",
    "    pop_size=5,  # tunable hyperparameter (minimum limit determined by mutation strategy)\n",
    "    mutation_factor=0.5,  # tunable hyperparameter (determines exploration)\n",
    "    crossover_prob=0.5,  # tunable hyperparameter (determines exploitation)\n",
    "    strategy='rand1_bin',  # tunable hyperparameter (trades-off exploration-exploitation)\n",
    ")\n",
    "\n",
    "self = de\n",
    "self.population = self.init_population(self.pop_size)\n",
    "self.fitness = np.array([np.inf for i in range(self.pop_size)])\n",
    "self.age = np.array([self.max_age] * self.pop_size)\n",
    "traj = []\n",
    "runtime = []\n",
    "history = []\n",
    "results = []\n",
    "for i in range(self.pop_size):\n",
    "    config = self.population[i]\n",
    "    results.append(self.f_objective(config))\n",
    "\n",
    "end = time.time() - start\n",
    "    \n",
    "for i in range(self.pop_size):\n",
    "    print(results[i])\n",
    "\n",
    "print(\"\\nTime taken for sequential processing: {} seconds\".format(end))"
   ]
  },
  {
   "cell_type": "code",
   "execution_count": null,
   "metadata": {},
   "outputs": [],
   "source": [
    "%%time \n",
    "print(results[0].result())"
   ]
  },
  {
   "cell_type": "code",
   "execution_count": null,
   "metadata": {},
   "outputs": [],
   "source": []
  },
  {
   "cell_type": "code",
   "execution_count": null,
   "metadata": {},
   "outputs": [],
   "source": []
  },
  {
   "cell_type": "code",
   "execution_count": 4,
   "metadata": {},
   "outputs": [],
   "source": [
    "from denas import DE, PDE, AsyncPDE\n",
    "\n",
    "import dask"
   ]
  },
  {
   "cell_type": "code",
   "execution_count": 14,
   "metadata": {},
   "outputs": [
    {
     "name": "stdout",
     "output_type": "stream",
     "text": [
      "Initializing and evaluating new population...\n",
      "Running evolutionary search...\n",
      "Generation 1 /100 -- -708.2052\n",
      "Generation 2 /100 -- -708.2052\n",
      "Generation 3 /100 -- -708.2052\n",
      "Generation 4 /100 -- -708.2052\n",
      "Generation 5 /100 -- -708.2052\n",
      "Generation 6 /100 -- -708.2052\n",
      "Generation 7 /100 -- -708.2052\n",
      "Generation 8 /100 -- -708.2052\n",
      "Generation 9 /100 -- -708.2052\n",
      "Generation 10/100 -- -708.2052\n",
      "Generation 11/100 -- -708.2052\n",
      "Generation 12/100 -- -708.2052\n",
      "Generation 13/100 -- -785.6332\n",
      "Generation 14/100 -- -785.6332\n",
      "Generation 15/100 -- -785.6332\n",
      "Generation 16/100 -- -785.6332\n",
      "Generation 17/100 -- -785.6332\n",
      "Generation 18/100 -- -785.6332\n",
      "Generation 19/100 -- -785.6332\n",
      "Generation 20/100 -- -785.6332\n",
      "Generation 21/100 -- -894.2841\n",
      "Generation 22/100 -- -894.2841\n",
      "Generation 23/100 -- -894.2841\n",
      "Generation 24/100 -- -894.2841\n",
      "Generation 25/100 -- -894.2841\n",
      "Generation 26/100 -- -894.2841\n",
      "Generation 27/100 -- -894.2841\n",
      "Generation 28/100 -- -894.2841\n",
      "Generation 29/100 -- -894.2841\n",
      "Generation 30/100 -- -894.2841\n",
      "Generation 31/100 -- -894.2841\n",
      "Generation 32/100 -- -894.2841\n",
      "Generation 33/100 -- -894.2841\n",
      "Generation 34/100 -- -894.2841\n",
      "Generation 35/100 -- -894.2841\n",
      "Generation 36/100 -- -894.2841\n",
      "Generation 37/100 -- -894.2841\n",
      "Generation 38/100 -- -894.2841\n",
      "Generation 39/100 -- -894.2841\n",
      "Generation 40/100 -- -921.063\n",
      "Generation 41/100 -- -921.063\n",
      "Generation 42/100 -- -921.063\n",
      "Generation 43/100 -- -921.063\n",
      "Generation 44/100 -- -921.063\n",
      "Generation 45/100 -- -921.063\n",
      "Generation 46/100 -- -921.063\n",
      "Generation 47/100 -- -921.063\n",
      "Generation 48/100 -- -921.063\n",
      "Generation 49/100 -- -921.063\n",
      "Generation 50/100 -- -921.063\n",
      "Generation 51/100 -- -921.063\n",
      "Generation 52/100 -- -921.063\n",
      "Generation 53/100 -- -921.063\n",
      "Generation 54/100 -- -927.1529\n",
      "Generation 55/100 -- -927.1529\n",
      "Generation 56/100 -- -927.1529\n",
      "Generation 57/100 -- -929.9895\n",
      "Generation 58/100 -- -929.9895\n",
      "Generation 59/100 -- -929.9895\n",
      "Generation 60/100 -- -929.9895\n",
      "Generation 61/100 -- -929.9895\n",
      "Generation 62/100 -- -929.9895\n",
      "Generation 63/100 -- -929.9895\n",
      "Generation 64/100 -- -929.9895\n",
      "Generation 65/100 -- -929.9895\n",
      "Generation 66/100 -- -929.9895\n",
      "Generation 67/100 -- -929.9895\n",
      "Generation 68/100 -- -929.9895\n",
      "Generation 69/100 -- -929.9895\n",
      "Generation 70/100 -- -929.9895\n",
      "Generation 71/100 -- -929.9895\n",
      "Generation 72/100 -- -929.9895\n",
      "Generation 73/100 -- -929.9895\n",
      "Generation 74/100 -- -929.9895\n",
      "Generation 75/100 -- -929.9895\n",
      "Generation 76/100 -- -929.9895\n",
      "Generation 77/100 -- -929.9895\n",
      "Generation 78/100 -- -929.9895\n",
      "Generation 79/100 -- -929.9895\n",
      "Generation 80/100 -- -929.9895\n",
      "Generation 81/100 -- -929.9895\n",
      "Generation 82/100 -- -934.9268\n",
      "Generation 83/100 -- -934.9268\n",
      "Generation 84/100 -- -934.9268\n",
      "Generation 85/100 -- -934.9268\n",
      "Generation 86/100 -- -934.9268\n",
      "Generation 87/100 -- -942.3348\n",
      "Generation 88/100 -- -942.3348\n",
      "Generation 89/100 -- -942.3348\n",
      "Generation 90/100 -- -942.3348\n",
      "Generation 91/100 -- -942.3348\n",
      "Generation 92/100 -- -942.3348\n",
      "Generation 93/100 -- -942.3348\n",
      "Generation 94/100 -- -942.3348\n",
      "Generation 95/100 -- -942.3348\n",
      "Generation 96/100 -- -942.3348\n",
      "Generation 97/100 -- -949.4963\n",
      "Generation 98/100 -- -949.4963\n",
      "Generation 99/100 -- -949.4963\n",
      "Generation 100/100 -- -952.3098\n",
      "\n",
      "Run complete!\n",
      "Time taken for parallel processing: 77.3412733078003 seconds\n"
     ]
    }
   ],
   "source": [
    "# Parallel\n",
    "\n",
    "de = PDE(\n",
    "    dimensions=len(bounds),\n",
    "    configspace=False,  # if passing a custom search space and not ConfigSpace\n",
    "    f=eggholder_objective_sleep,  # passing the objective function\n",
    "    pop_size=10,  # tunable hyperparameter (minimum limit determined by mutation strategy)\n",
    "    mutation_factor=0.5,  # tunable hyperparameter (determines exploration)\n",
    "    crossover_prob=0.5,  # tunable hyperparameter (determines exploitation)\n",
    "    strategy='rand1_bin',  # tunable hyperparameter (trades-off exploration-exploitation)\n",
    ")\n",
    "start = time.time()\n",
    "traj, runtime, hist = de.run(generations=100, verbose=True)\n",
    "end = time.time() - start\n",
    "    \n",
    "print(\"Time taken for parallel processing: {} seconds\".format(end))"
   ]
  },
  {
   "cell_type": "code",
   "execution_count": 15,
   "metadata": {},
   "outputs": [
    {
     "data": {
      "text/plain": [
       "(array([0.998189  , 0.89249079]), -952.3098450758578)"
      ]
     },
     "execution_count": 15,
     "metadata": {},
     "output_type": "execute_result"
    }
   ],
   "source": [
    "de.inc_config, de.inc_score"
   ]
  },
  {
   "cell_type": "code",
   "execution_count": 8,
   "metadata": {},
   "outputs": [
    {
     "name": "stdout",
     "output_type": "stream",
     "text": [
      "Initializing and evaluating new population...\n",
      "Running evolutionary search...\n",
      "Generation 1 /10 -- -863.4515\n",
      "Generation 2 /10 -- -863.4515\n",
      "Generation 3 /10 -- -863.4515\n",
      "Generation 4 /10 -- -863.4515\n",
      "Generation 5 /10 -- -863.4515\n",
      "Generation 6 /10 -- -863.4515\n",
      "Generation 7 /10 -- -863.4515\n",
      "Generation 8 /10 -- -863.4515\n",
      "Generation 9 /10 -- -863.4515\n",
      "Generation 10/10 -- -863.4515\n",
      "\n",
      "Run complete!\n",
      "Time taken for sequential processing: 75.15867924690247 seconds\n"
     ]
    }
   ],
   "source": [
    "# Sequential\n",
    "\n",
    "de = DE(\n",
    "    dimensions=len(bounds),\n",
    "    configspace=False,  # if passing a custom search space and not ConfigSpace\n",
    "    f=eggholder_objective_sleep,  # passing the objective function\n",
    "    pop_size=20,  # tunable hyperparameter (minimum limit determined by mutation strategy)\n",
    "    mutation_factor=0.5,  # tunable hyperparameter (determines exploration)\n",
    "    crossover_prob=0.5,  # tunable hyperparameter (determines exploitation)\n",
    "    strategy='rand1_bin',  # tunable hyperparameter (trades-off exploration-exploitation)\n",
    ")\n",
    "start = time.time()\n",
    "traj, runtime, hist = de.run(generations=10, verbose=True)\n",
    "end = time.time() - start\n",
    "    \n",
    "print(\"Time taken for sequential processing: {} seconds\".format(end))"
   ]
  },
  {
   "cell_type": "code",
   "execution_count": 9,
   "metadata": {},
   "outputs": [
    {
     "data": {
      "text/plain": [
       "(array([0.82647795, 0.98244649]), -863.4514890082095)"
      ]
     },
     "execution_count": 9,
     "metadata": {},
     "output_type": "execute_result"
    }
   ],
   "source": [
    "de.inc_config, de.inc_score"
   ]
  },
  {
   "cell_type": "code",
   "execution_count": null,
   "metadata": {},
   "outputs": [],
   "source": []
  },
  {
   "cell_type": "code",
   "execution_count": null,
   "metadata": {},
   "outputs": [],
   "source": []
  },
  {
   "cell_type": "code",
   "execution_count": null,
   "metadata": {},
   "outputs": [],
   "source": []
  },
  {
   "cell_type": "code",
   "execution_count": null,
   "metadata": {},
   "outputs": [],
   "source": []
  },
  {
   "cell_type": "code",
   "execution_count": null,
   "metadata": {},
   "outputs": [],
   "source": [
    "from dask.distributed import Client\n",
    "\n",
    "# Setup a local cluster.\n",
    "# By default this sets up 1 worker per core\n",
    "client = Client()\n",
    "client.cluster"
   ]
  },
  {
   "cell_type": "code",
   "execution_count": null,
   "metadata": {},
   "outputs": [],
   "source": [
    "?client.gather"
   ]
  },
  {
   "cell_type": "code",
   "execution_count": null,
   "metadata": {},
   "outputs": [],
   "source": []
  },
  {
   "cell_type": "code",
   "execution_count": null,
   "metadata": {},
   "outputs": [],
   "source": []
  },
  {
   "cell_type": "code",
   "execution_count": null,
   "metadata": {},
   "outputs": [],
   "source": []
  },
  {
   "cell_type": "code",
   "execution_count": null,
   "metadata": {},
   "outputs": [],
   "source": []
  }
 ],
 "metadata": {
  "kernelspec": {
   "display_name": "Python 3",
   "language": "python",
   "name": "python3"
  },
  "language_info": {
   "codemirror_mode": {
    "name": "ipython",
    "version": 3
   },
   "file_extension": ".py",
   "mimetype": "text/x-python",
   "name": "python",
   "nbconvert_exporter": "python",
   "pygments_lexer": "ipython3",
   "version": "3.6.9"
  }
 },
 "nbformat": 4,
 "nbformat_minor": 4
}
