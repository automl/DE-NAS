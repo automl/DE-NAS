{
 "cells": [
  {
   "cell_type": "code",
   "execution_count": 1,
   "metadata": {},
   "outputs": [],
   "source": [
    "import numpy as np\n",
    "seed = 0\n",
    "np.random.seed(0)\n",
    "\n",
    "\n",
    "def eggholder(x):\n",
    "    return (-(x[1] + 47) * np.sin(np.sqrt(abs(x[0]/2 + (x[1]  + 47)))) - \\\n",
    "            x[0] * np.sin(np.sqrt(abs(x[0] - (x[1]  + 47)))))\n",
    "\n",
    "bounds = [(-512, 512), (-512, 512)]"
   ]
  },
  {
   "cell_type": "code",
   "execution_count": 2,
   "metadata": {},
   "outputs": [],
   "source": [
    "import time\n",
    "\n",
    "def eggholder_objective(x):\n",
    "    '''Evaluates x on the eggholder function (minimizing)\n",
    "    \n",
    "    x: a list/array of length 2 with each value in [0, 1]\n",
    "    '''\n",
    "    start = time.time()\n",
    "    bound_range = [bounds[0][1] - bounds[0][0]]\n",
    "    bound_range.append(bounds[1][1] - bounds[1][0])\n",
    "    bound_min = [bounds[0][0]]\n",
    "    bound_min.append(bounds[1][0])\n",
    "    x_new = x.copy()\n",
    "    for i in range(len(x)):\n",
    "        x_new[i] = bound_min[i] + x[i] * bound_range[i]\n",
    "    \n",
    "    # the fitness which determines the selection process in DE\n",
    "    ## the lower the fitness value, the better is x adjudged to be\n",
    "    fitness = eggholder(x_new)\n",
    "    # runtime of objective, or None, or equivalent\n",
    "    cost = time.time() - start \n",
    "    \n",
    "    return fitness, cost"
   ]
  },
  {
   "cell_type": "code",
   "execution_count": 5,
   "metadata": {},
   "outputs": [
    {
     "name": "stdout",
     "output_type": "stream",
     "text": [
      "CPU times: user 20 µs, sys: 0 ns, total: 20 µs\n",
      "Wall time: 36.7 µs\n"
     ]
    }
   ],
   "source": [
    "%%time\n",
    "\n",
    "### introducing sleep\n",
    "\n",
    "sleep_low = 0.2\n",
    "sleep_high = 0.5\n",
    "\n",
    "def eggholder_objective_sleep(x):\n",
    "    '''Evaluates x on the eggholder function (minimizing)\n",
    "    \n",
    "    x: a list/array of length 2 with each value in [0, 1]\n",
    "    '''\n",
    "    start = time.time()\n",
    "    bound_range = [bounds[0][1] - bounds[0][0]]\n",
    "    bound_range.append(bounds[1][1] - bounds[1][0])\n",
    "    bound_min = [bounds[0][0]]\n",
    "    bound_min.append(bounds[1][0])\n",
    "    x_new = x.copy()\n",
    "    for i in range(len(x)):\n",
    "        x_new[i] = bound_min[i] + x[i] * bound_range[i]\n",
    "    \n",
    "    # the fitness which determines the selection process in DE\n",
    "    ## the lower the fitness value, the better is x adjudged to be\n",
    "    fitness = eggholder(x_new)\n",
    "    # 25% chance of a long sleep of 2 seconds to simulate bottlenecks\n",
    "    if np.random.uniform() > 0.75:\n",
    "        time.sleep(2)\n",
    "    else:\n",
    "        time.sleep(np.random.uniform(low=sleep_low, high=sleep_high))\n",
    "    # runtime of objective, or None, or equivalent\n",
    "    cost = time.time() - start \n",
    "    \n",
    "    return fitness, cost"
   ]
  },
  {
   "cell_type": "code",
   "execution_count": null,
   "metadata": {},
   "outputs": [],
   "source": []
  },
  {
   "cell_type": "code",
   "execution_count": 11,
   "metadata": {},
   "outputs": [],
   "source": [
    "from denas import DE, PDE, AsyncPDE\n",
    "\n",
    "import dask"
   ]
  },
  {
   "cell_type": "code",
   "execution_count": 12,
   "metadata": {},
   "outputs": [
    {
     "name": "stdout",
     "output_type": "stream",
     "text": [
      "Initializing and evaluating new population...\n",
      "Running evolutionary search...\n",
      "Generation 1 /10 -- -547.8635\n",
      "Generation 2 /10 -- -547.8635\n",
      "Generation 3 /10 -- -794.7629\n",
      "Generation 4 /10 -- -794.7629\n",
      "Generation 5 /10 -- -794.7629\n",
      "Generation 6 /10 -- -794.7629\n",
      "Generation 7 /10 -- -794.7629\n",
      "Generation 8 /10 -- -794.7629\n",
      "Generation 9 /10 -- -794.7629\n",
      "Generation 10/10 -- -794.7629\n",
      "\n",
      "Run complete!\n",
      "Time taken for sequential processing: 164.73409366607666 seconds\n",
      "[0.06276866 0.88686323] -794.7628545499281\n"
     ]
    }
   ],
   "source": [
    "# Sequential\n",
    "\n",
    "de = DE(\n",
    "    dimensions=len(bounds),\n",
    "    configspace=False,            # if passing a custom search space and not ConfigSpace\n",
    "    f=eggholder_objective_sleep,  # passing the objective function\n",
    "    pop_size=20,                  # tunable hyperparameter (minimum limit determined by mutation strategy)\n",
    "    mutation_factor=0.5,          # tunable hyperparameter (determines exploration)\n",
    "    crossover_prob=0.5,           # tunable hyperparameter (determines exploitation)\n",
    "    strategy='rand1_bin',         # tunable hyperparameter (trades-off exploration-exploitation)\n",
    ")\n",
    "start = time.time()\n",
    "traj, runtime, hist = de.run(generations=10, verbose=True)\n",
    "end = time.time() - start\n",
    "    \n",
    "print(\"Time taken for sequential processing: {} seconds\".format(end))\n",
    "print(de.inc_config, de.inc_score)"
   ]
  },
  {
   "cell_type": "code",
   "execution_count": 13,
   "metadata": {},
   "outputs": [
    {
     "name": "stdout",
     "output_type": "stream",
     "text": [
      "Initializing and evaluating new population...\n",
      "Running evolutionary search...\n",
      "Generation 1 /10 -- -700.0901\n",
      "Generation 2 /10 -- -700.0901\n",
      "Generation 3 /10 -- -700.0901\n",
      "Generation 4 /10 -- -858.958\n",
      "Generation 5 /10 -- -858.958\n",
      "Generation 6 /10 -- -858.958\n",
      "Generation 7 /10 -- -858.958\n",
      "Generation 8 /10 -- -858.958\n",
      "Generation 9 /10 -- -858.958\n",
      "Generation 10/10 -- -858.958\n",
      "\n",
      "Run complete!\n",
      "Time to initialise client: 1.6244685649871826 seconds\n",
      "Time taken for parallel processing with 1 workers: 171.242333650589 seconds\n",
      "[0.92344193 0.94715412] -858.9580073022762\n"
     ]
    }
   ],
   "source": [
    "# Parallel (1 worker)\n",
    "\n",
    "num_workers = 1\n",
    "\n",
    "start = time.time()\n",
    "de = PDE(\n",
    "    dimensions=len(bounds),\n",
    "    configspace=False,            # if passing a custom search space and not ConfigSpace\n",
    "    f=eggholder_objective_sleep,  # passing the objective function\n",
    "    pop_size=20,                  # tunable hyperparameter (minimum limit determined by mutation strategy)\n",
    "    mutation_factor=0.5,          # tunable hyperparameter (determines exploration)\n",
    "    crossover_prob=0.5,           # tunable hyperparameter (determines exploitation)\n",
    "    strategy='rand1_bin',         # tunable hyperparameter (trades-off exploration-exploitation)\n",
    "    num_workers=num_workers\n",
    ")\n",
    "load_time = time.time() - start\n",
    "start = time.time()\n",
    "traj, runtime, hist = de.run(generations=10, verbose=True)\n",
    "end = time.time() - start\n",
    "    \n",
    "print(\"Time to initialise client: {} seconds\".format(load_time))\n",
    "print(\"Time taken for parallel processing with {} workers: {} seconds\".format(num_workers, end))\n",
    "print(de.inc_config, de.inc_score)"
   ]
  },
  {
   "cell_type": "code",
   "execution_count": 14,
   "metadata": {},
   "outputs": [
    {
     "name": "stderr",
     "output_type": "stream",
     "text": [
      "/media/neeratyoy/Mars/Freiburg/Hiwi/DE/envs/dask/lib/python3.6/site-packages/distributed/node.py:155: UserWarning: Port 8787 is already in use.\n",
      "Perhaps you already have a cluster running?\n",
      "Hosting the HTTP server on port 38479 instead\n",
      "  http_address[\"port\"], self.http_server.port\n",
      "/media/neeratyoy/Mars/Freiburg/Hiwi/DE/envs/dask/lib/python3.6/site-packages/distributed/node.py:155: UserWarning: Port 8787 is already in use.\n",
      "Perhaps you already have a cluster running?\n",
      "Hosting the HTTP server on port 36111 instead\n",
      "  http_address[\"port\"], self.http_server.port\n"
     ]
    },
    {
     "name": "stdout",
     "output_type": "stream",
     "text": [
      "Initializing and evaluating new population...\n",
      "Running evolutionary search...\n",
      "Generation 1 /10 -- -695.8255\n",
      "Generation 2 /10 -- -695.8255\n",
      "Generation 3 /10 -- -695.8255\n",
      "Generation 4 /10 -- -695.8255\n",
      "Generation 5 /10 -- -695.8255\n",
      "Generation 6 /10 -- -695.8255\n",
      "Generation 7 /10 -- -695.8255\n",
      "Generation 8 /10 -- -695.8255\n",
      "Generation 9 /10 -- -695.8255\n",
      "Generation 10/10 -- -888.9939\n",
      "\n",
      "Run complete!\n",
      "Time to initialise client: 0.7789802551269531 seconds\n",
      "Time taken for parallel processing with 2 workers: 83.06812119483948 seconds\n",
      "[0.05053659 0.87313113] -888.9939168254796\n"
     ]
    }
   ],
   "source": [
    "# Parallel (2 workers)\n",
    "\n",
    "num_workers = 2\n",
    "\n",
    "start = time.time()\n",
    "de = PDE(\n",
    "    dimensions=len(bounds),\n",
    "    configspace=False,            # if passing a custom search space and not ConfigSpace\n",
    "    f=eggholder_objective_sleep,  # passing the objective function\n",
    "    pop_size=20,                  # tunable hyperparameter (minimum limit determined by mutation strategy)\n",
    "    mutation_factor=0.5,          # tunable hyperparameter (determines exploration)\n",
    "    crossover_prob=0.5,           # tunable hyperparameter (determines exploitation)\n",
    "    strategy='rand1_bin',         # tunable hyperparameter (trades-off exploration-exploitation)\n",
    "    num_workers=num_workers\n",
    ")\n",
    "load_time = time.time() - start\n",
    "start = time.time()\n",
    "traj, runtime, hist = de.run(generations=10, verbose=True)\n",
    "end = time.time() - start\n",
    "    \n",
    "print(\"Time to initialise client: {} seconds\".format(load_time))\n",
    "print(\"Time taken for parallel processing with {} workers: {} seconds\".format(num_workers, end))\n",
    "print(de.inc_config, de.inc_score)"
   ]
  },
  {
   "cell_type": "code",
   "execution_count": 20,
   "metadata": {},
   "outputs": [
    {
     "name": "stderr",
     "output_type": "stream",
     "text": [
      "/media/neeratyoy/Mars/Freiburg/Hiwi/DE/envs/dask/lib/python3.6/site-packages/distributed/node.py:155: UserWarning: Port 8787 is already in use.\n",
      "Perhaps you already have a cluster running?\n",
      "Hosting the HTTP server on port 36507 instead\n",
      "  http_address[\"port\"], self.http_server.port\n",
      "/media/neeratyoy/Mars/Freiburg/Hiwi/DE/envs/dask/lib/python3.6/site-packages/distributed/node.py:155: UserWarning: Port 8787 is already in use.\n",
      "Perhaps you already have a cluster running?\n",
      "Hosting the HTTP server on port 33265 instead\n",
      "  http_address[\"port\"], self.http_server.port\n"
     ]
    },
    {
     "name": "stdout",
     "output_type": "stream",
     "text": [
      "Initializing and evaluating new population...\n",
      "Running evolutionary search...\n",
      "Generation 1 /10 -- -640.3775\n",
      "Generation 2 /10 -- -640.3775\n",
      "Generation 3 /10 -- -640.3775\n",
      "Generation 4 /10 -- -640.3775\n",
      "Generation 5 /10 -- -640.3775\n",
      "Generation 6 /10 -- -640.3775\n",
      "Generation 7 /10 -- -640.3775\n",
      "Generation 8 /10 -- -640.3775\n",
      "Generation 9 /10 -- -640.3775\n",
      "Generation 10/10 -- -640.3775\n",
      "\n",
      "Run complete!\n",
      "Time to initialise client: 2.8334078788757324 seconds\n",
      "Time taken for parallel processing with 4 workers: 53.59642672538757 seconds\n",
      "[0.78116439 0.00561923] -640.3774870297616\n"
     ]
    }
   ],
   "source": [
    "# Parallel (4 workers)\n",
    "\n",
    "num_workers = 4\n",
    "\n",
    "start = time.time()\n",
    "de = PDE(\n",
    "    dimensions=len(bounds),\n",
    "    configspace=False,            # if passing a custom search space and not ConfigSpace\n",
    "    f=eggholder_objective_sleep,  # passing the objective function\n",
    "    pop_size=20,                  # tunable hyperparameter (minimum limit determined by mutation strategy)\n",
    "    mutation_factor=0.5,          # tunable hyperparameter (determines exploration)\n",
    "    crossover_prob=0.5,           # tunable hyperparameter (determines exploitation)\n",
    "    strategy='rand1_bin',         # tunable hyperparameter (trades-off exploration-exploitation)\n",
    "    num_workers=num_workers\n",
    ")\n",
    "load_time = time.time() - start\n",
    "start = time.time()\n",
    "traj, runtime, hist = de.run(generations=10, verbose=True)\n",
    "end = time.time() - start\n",
    "    \n",
    "print(\"Time to initialise client: {} seconds\".format(load_time))\n",
    "print(\"Time taken for parallel processing with {} workers: {} seconds\".format(num_workers, end))\n",
    "print(de.inc_config, de.inc_score)"
   ]
  },
  {
   "cell_type": "code",
   "execution_count": 16,
   "metadata": {},
   "outputs": [
    {
     "name": "stderr",
     "output_type": "stream",
     "text": [
      "/media/neeratyoy/Mars/Freiburg/Hiwi/DE/envs/dask/lib/python3.6/site-packages/distributed/node.py:155: UserWarning: Port 8787 is already in use.\n",
      "Perhaps you already have a cluster running?\n",
      "Hosting the HTTP server on port 40293 instead\n",
      "  http_address[\"port\"], self.http_server.port\n",
      "/media/neeratyoy/Mars/Freiburg/Hiwi/DE/envs/dask/lib/python3.6/site-packages/distributed/node.py:155: UserWarning: Port 8787 is already in use.\n",
      "Perhaps you already have a cluster running?\n",
      "Hosting the HTTP server on port 37235 instead\n",
      "  http_address[\"port\"], self.http_server.port\n"
     ]
    },
    {
     "name": "stdout",
     "output_type": "stream",
     "text": [
      "Initializing and evaluating new population...\n",
      "Running evolutionary search...\n",
      "Generation 1 /10 -- -365.7444\n",
      "Generation 2 /10 -- -622.2672\n",
      "Generation 3 /10 -- -734.3517\n",
      "Generation 4 /10 -- -734.3517\n",
      "Generation 5 /10 -- -734.3517\n",
      "Generation 6 /10 -- -734.3517\n",
      "Generation 7 /10 -- -734.3517\n",
      "Generation 8 /10 -- -734.3517\n",
      "Generation 9 /10 -- -734.3517\n",
      "Generation 10/10 -- -881.0744\n",
      "\n",
      "Run complete!\n",
      "Time to initialise client: 4.030801296234131 seconds\n",
      "Time taken for parallel processing with 20 workers: 29.560590028762817 seconds\n",
      "[0.0426116  0.87121828] -881.0743968267418\n"
     ]
    }
   ],
   "source": [
    "# Parallel (20 workers)\n",
    "\n",
    "num_workers = 20\n",
    "\n",
    "start = time.time()\n",
    "de = PDE(\n",
    "    dimensions=len(bounds),\n",
    "    configspace=False,            # if passing a custom search space and not ConfigSpace\n",
    "    f=eggholder_objective_sleep,  # passing the objective function\n",
    "    pop_size=20,                  # tunable hyperparameter (minimum limit determined by mutation strategy)\n",
    "    mutation_factor=0.5,          # tunable hyperparameter (determines exploration)\n",
    "    crossover_prob=0.5,           # tunable hyperparameter (determines exploitation)\n",
    "    strategy='rand1_bin',         # tunable hyperparameter (trades-off exploration-exploitation)\n",
    "    num_workers=num_workers\n",
    ")\n",
    "load_time = time.time() - start\n",
    "start = time.time()\n",
    "traj, runtime, hist = de.run(generations=10, verbose=True)\n",
    "end = time.time() - start\n",
    "    \n",
    "print(\"Time to initialise client: {} seconds\".format(load_time))\n",
    "print(\"Time taken for parallel processing with {} workers: {} seconds\".format(num_workers, end))\n",
    "print(de.inc_config, de.inc_score)"
   ]
  },
  {
   "cell_type": "code",
   "execution_count": null,
   "metadata": {},
   "outputs": [],
   "source": []
  },
  {
   "cell_type": "code",
   "execution_count": null,
   "metadata": {},
   "outputs": [],
   "source": []
  },
  {
   "cell_type": "code",
   "execution_count": 17,
   "metadata": {},
   "outputs": [
    {
     "data": {
      "text/plain": [
       "<dask.config.set at 0x7f99e4adfcf8>"
      ]
     },
     "execution_count": 17,
     "metadata": {},
     "output_type": "execute_result"
    }
   ],
   "source": [
    "import dask\n",
    "dask.config.set(scheduler='processes', num_workers=1)"
   ]
  },
  {
   "cell_type": "code",
   "execution_count": 18,
   "metadata": {},
   "outputs": [
    {
     "name": "stderr",
     "output_type": "stream",
     "text": [
      "/media/neeratyoy/Mars/Freiburg/Hiwi/DE/envs/dask/lib/python3.6/site-packages/distributed/node.py:155: UserWarning: Port 8787 is already in use.\n",
      "Perhaps you already have a cluster running?\n",
      "Hosting the HTTP server on port 34927 instead\n",
      "  http_address[\"port\"], self.http_server.port\n"
     ]
    },
    {
     "data": {
      "application/vnd.jupyter.widget-view+json": {
       "model_id": "7e1effbe587c48a9bc17a7d078a60a66",
       "version_major": 2,
       "version_minor": 0
      },
      "text/plain": [
       "VBox(children=(HTML(value='<h2>LocalCluster</h2>'), HBox(children=(HTML(value='\\n<div>\\n  <style scoped>\\n    …"
      ]
     },
     "metadata": {},
     "output_type": "display_data"
    }
   ],
   "source": [
    "from dask.distributed import Client\n",
    "\n",
    "# Setup a local cluster.\n",
    "# By default this sets up 1 worker per core\n",
    "client = Client()\n",
    "client.cluster"
   ]
  },
  {
   "cell_type": "code",
   "execution_count": 19,
   "metadata": {},
   "outputs": [
    {
     "data": {
      "text/html": [
       "<table style=\"border: 2px solid white;\">\n",
       "<tr>\n",
       "<td style=\"vertical-align: top; border: 0px solid white\">\n",
       "<h3 style=\"text-align: left;\">Client</h3>\n",
       "<ul style=\"text-align: left; list-style: none; margin: 0; padding: 0;\">\n",
       "  <li><b>Scheduler: </b>tcp://127.0.0.1:33271</li>\n",
       "  <li><b>Dashboard: </b><a href='http://127.0.0.1:34927/status' target='_blank'>http://127.0.0.1:34927/status</a></li>\n",
       "</ul>\n",
       "</td>\n",
       "<td style=\"vertical-align: top; border: 0px solid white\">\n",
       "<h3 style=\"text-align: left;\">Cluster</h3>\n",
       "<ul style=\"text-align: left; list-style:none; margin: 0; padding: 0;\">\n",
       "  <li><b>Workers: </b>4</li>\n",
       "  <li><b>Cores: </b>8</li>\n",
       "  <li><b>Memory: </b>8.09 GB</li>\n",
       "</ul>\n",
       "</td>\n",
       "</tr>\n",
       "</table>"
      ],
      "text/plain": [
       "<Client: 'tcp://127.0.0.1:33271' processes=4 threads=8, memory=8.09 GB>"
      ]
     },
     "execution_count": 19,
     "metadata": {},
     "output_type": "execute_result"
    }
   ],
   "source": [
    "client"
   ]
  },
  {
   "cell_type": "code",
   "execution_count": null,
   "metadata": {},
   "outputs": [],
   "source": []
  }
 ],
 "metadata": {
  "kernelspec": {
   "display_name": "Python 3",
   "language": "python",
   "name": "python3"
  },
  "language_info": {
   "codemirror_mode": {
    "name": "ipython",
    "version": 3
   },
   "file_extension": ".py",
   "mimetype": "text/x-python",
   "name": "python",
   "nbconvert_exporter": "python",
   "pygments_lexer": "ipython3",
   "version": "3.6.9"
  }
 },
 "nbformat": 4,
 "nbformat_minor": 4
}
