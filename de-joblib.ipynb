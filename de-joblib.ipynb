{
 "cells": [
  {
   "cell_type": "markdown",
   "metadata": {},
   "source": [
    "# joblib trials"
   ]
  },
  {
   "cell_type": "code",
   "execution_count": 1,
   "metadata": {},
   "outputs": [],
   "source": [
    "import joblib"
   ]
  },
  {
   "cell_type": "code",
   "execution_count": 2,
   "metadata": {},
   "outputs": [
    {
     "data": {
      "text/plain": [
       "'0.16.0'"
      ]
     },
     "execution_count": 2,
     "metadata": {},
     "output_type": "execute_result"
    }
   ],
   "source": [
    "joblib.__version__"
   ]
  },
  {
   "cell_type": "code",
   "execution_count": 3,
   "metadata": {},
   "outputs": [],
   "source": [
    "from math import sqrt"
   ]
  },
  {
   "cell_type": "code",
   "execution_count": 4,
   "metadata": {},
   "outputs": [
    {
     "name": "stdout",
     "output_type": "stream",
     "text": [
      "CPU times: user 76 µs, sys: 50 µs, total: 126 µs\n",
      "Wall time: 137 µs\n"
     ]
    }
   ],
   "source": [
    "%%time\n",
    "temp = [sqrt(i ** 2) for i in range(100)]"
   ]
  },
  {
   "cell_type": "code",
   "execution_count": 5,
   "metadata": {},
   "outputs": [],
   "source": [
    "from joblib import Parallel, delayed"
   ]
  },
  {
   "cell_type": "code",
   "execution_count": 6,
   "metadata": {},
   "outputs": [
    {
     "name": "stdout",
     "output_type": "stream",
     "text": [
      "CPU times: user 40.6 ms, sys: 16.3 ms, total: 56.9 ms\n",
      "Wall time: 378 ms\n"
     ]
    }
   ],
   "source": [
    "%%time\n",
    "temp_p = Parallel(n_jobs=2)(delayed(sqrt)(i ** 2) for i in range(10))"
   ]
  },
  {
   "cell_type": "code",
   "execution_count": 7,
   "metadata": {},
   "outputs": [
    {
     "name": "stdout",
     "output_type": "stream",
     "text": [
      "CPU times: user 4.32 ms, sys: 1.66 ms, total: 5.99 ms\n",
      "Wall time: 104 ms\n"
     ]
    }
   ],
   "source": [
    "%%time\n",
    "temp_p = Parallel(n_jobs=2, prefer=\"threads\")(delayed(sqrt)(i ** 2) for i in range(10))"
   ]
  },
  {
   "cell_type": "code",
   "execution_count": 8,
   "metadata": {},
   "outputs": [],
   "source": [
    "from joblib import parallel_backend"
   ]
  },
  {
   "cell_type": "code",
   "execution_count": 9,
   "metadata": {},
   "outputs": [
    {
     "name": "stdout",
     "output_type": "stream",
     "text": [
      "CPU times: user 12.5 ms, sys: 0 ns, total: 12.5 ms\n",
      "Wall time: 103 ms\n"
     ]
    }
   ],
   "source": [
    "%%time\n",
    "\n",
    "# useful when calling a library that uses joblib.Parallel \n",
    "# internally without exposing backend selection as part of \n",
    "# its public API.\n",
    "\n",
    "with parallel_backend('threading', n_jobs=2):\n",
    "    Parallel()(delayed(sqrt)(i ** 2) for i in range(10))"
   ]
  },
  {
   "cell_type": "code",
   "execution_count": 10,
   "metadata": {},
   "outputs": [
    {
     "name": "stdout",
     "output_type": "stream",
     "text": [
      "CPU times: user 48.1 ms, sys: 1.39 ms, total: 49.5 ms\n",
      "Wall time: 45.7 ms\n"
     ]
    }
   ],
   "source": [
    "%%time\n",
    "\n",
    "# more efficient to use the context manager API of the \n",
    "# joblib.Parallel class to re-use the same pool of workers \n",
    "# for several calls to the joblib.Parallel object.\n",
    "\n",
    "with Parallel(n_jobs=2) as parallel:\n",
    "    accumulator = 0.\n",
    "    n_iter = 0\n",
    "    while accumulator < 1000:\n",
    "        results = parallel(delayed(sqrt)(accumulator + i ** 2) \n",
    "                           for i in range(5))\n",
    "        accumulator += sum(results)  # synchronization barrier\n",
    "        n_iter += 1"
   ]
  },
  {
   "cell_type": "code",
   "execution_count": 11,
   "metadata": {},
   "outputs": [
    {
     "data": {
      "text/plain": [
       "(1136.5969161564717, 14)"
      ]
     },
     "execution_count": 11,
     "metadata": {},
     "output_type": "execute_result"
    }
   ],
   "source": [
    "(accumulator, n_iter)"
   ]
  },
  {
   "cell_type": "markdown",
   "metadata": {},
   "source": [
    "When these libraries are used with joblib.Parallel, each worker will spawn its own thread-pools, resulting in a massive over-subscription of resources that can slow down the computation compared to a sequential one. To cope with this problem, joblib tells supported third-party libraries to use a limited number of threads in workers managed by the 'loky' backend: by default each worker process will have environment variables set to allow a maximum of cpu_count() // n_jobs so that the total number of threads used by all the workers does not exceed the number of CPUs of the host."
   ]
  },
  {
   "cell_type": "code",
   "execution_count": 12,
   "metadata": {},
   "outputs": [],
   "source": [
    "# with parallel_backend(\"loky\", inner_max_num_threads=2):\n",
    "#     results = Parallel(n_jobs=4)(delayed(func)(x, y) for x, y in data)"
   ]
  },
  {
   "cell_type": "code",
   "execution_count": null,
   "metadata": {},
   "outputs": [],
   "source": []
  },
  {
   "cell_type": "code",
   "execution_count": 13,
   "metadata": {},
   "outputs": [],
   "source": [
    "from math import modf\n",
    "from joblib import Parallel, delayed"
   ]
  },
  {
   "cell_type": "code",
   "execution_count": 14,
   "metadata": {},
   "outputs": [],
   "source": [
    "r = Parallel(n_jobs=1)(delayed(modf)(i/2.) for i in range(10))\n",
    "res, i = zip(*r)"
   ]
  },
  {
   "cell_type": "code",
   "execution_count": 15,
   "metadata": {},
   "outputs": [
    {
     "data": {
      "text/plain": [
       "((0.0, 0.5, 0.0, 0.5, 0.0, 0.5, 0.0, 0.5, 0.0, 0.5),\n",
       " (0.0, 0.0, 1.0, 1.0, 2.0, 2.0, 3.0, 3.0, 4.0, 4.0))"
      ]
     },
     "execution_count": 15,
     "metadata": {},
     "output_type": "execute_result"
    }
   ],
   "source": [
    "res, i"
   ]
  },
  {
   "cell_type": "code",
   "execution_count": 16,
   "metadata": {},
   "outputs": [],
   "source": [
    "from time import sleep"
   ]
  },
  {
   "cell_type": "code",
   "execution_count": 17,
   "metadata": {},
   "outputs": [
    {
     "name": "stderr",
     "output_type": "stream",
     "text": [
      "[Parallel(n_jobs=2)]: Using backend LokyBackend with 2 concurrent workers.\n",
      "[Parallel(n_jobs=2)]: Done   1 tasks      | elapsed:    0.2s\n",
      "[Parallel(n_jobs=2)]: Done   4 tasks      | elapsed:    0.4s\n",
      "[Parallel(n_jobs=2)]: Done  10 out of  10 | elapsed:    1.0s finished\n"
     ]
    }
   ],
   "source": [
    "r = Parallel(n_jobs=2, verbose=10)(delayed(sleep)(.2) for _ in range(10))"
   ]
  },
  {
   "cell_type": "code",
   "execution_count": 18,
   "metadata": {},
   "outputs": [],
   "source": [
    "from heapq import nlargest"
   ]
  },
  {
   "cell_type": "code",
   "execution_count": 19,
   "metadata": {},
   "outputs": [
    {
     "name": "stdout",
     "output_type": "stream",
     "text": [
      "[Parallel(n_jobs=2)]: Using backend LokyBackend with 2 concurrent workers.\n",
      "Produced 0\n",
      "Produced 1\n",
      "Produced 2\n",
      "[Parallel(n_jobs=2)]: Done   1 tasks      | elapsed:    0.3s\n",
      "Produced 3\n",
      "Produced 4\n",
      "[Parallel(n_jobs=2)]: Done   2 tasks      | elapsed:    0.3s\n",
      "[Parallel(n_jobs=2)]: Done   3 tasks      | elapsed:    0.3s\n",
      "Produced 5\n",
      "[Parallel(n_jobs=2)]: Done   4 tasks      | elapsed:    0.3s\n",
      "[Parallel(n_jobs=2)]: Done   6 out of   6 | elapsed:    0.3s remaining:    0.0s\n",
      "[Parallel(n_jobs=2)]: Done   6 out of   6 | elapsed:    0.3s finished\n",
      "CPU times: user 16.7 ms, sys: 16.4 ms, total: 33.1 ms\n",
      "Wall time: 408 ms\n"
     ]
    }
   ],
   "source": [
    "%%time\n",
    "\n",
    "from math import sqrt\n",
    "from joblib import Parallel, delayed\n",
    "def producer():\n",
    "    for i in range(6):\n",
    "        print('Produced %s' % i)\n",
    "        yield i\n",
    "out = Parallel(n_jobs=2, verbose=100, pre_dispatch='1.5*n_jobs')(\n",
    "    delayed(sqrt)(i) for i in producer()\n",
    ") #doctest: +SKIP"
   ]
  },
  {
   "cell_type": "code",
   "execution_count": 20,
   "metadata": {},
   "outputs": [
    {
     "data": {
      "text/plain": [
       "[0.0, 1.0, 1.4142135623730951, 1.7320508075688772, 2.0, 2.23606797749979]"
      ]
     },
     "execution_count": 20,
     "metadata": {},
     "output_type": "execute_result"
    }
   ],
   "source": [
    "out"
   ]
  },
  {
   "cell_type": "markdown",
   "metadata": {},
   "source": [
    "# DE with joblib"
   ]
  },
  {
   "cell_type": "code",
   "execution_count": 21,
   "metadata": {},
   "outputs": [],
   "source": [
    "import numpy as np\n",
    "seed = 0\n",
    "np.random.seed(0)\n",
    "\n",
    "\n",
    "def eggholder(x):\n",
    "    return (-(x[1] + 47) * np.sin(np.sqrt(abs(x[0]/2 + (x[1]  + 47)))) - \\\n",
    "            x[0] * np.sin(np.sqrt(abs(x[0] - (x[1]  + 47)))))\n",
    "\n",
    "bounds = [(-512, 512), (-512, 512)]"
   ]
  },
  {
   "cell_type": "code",
   "execution_count": 22,
   "metadata": {},
   "outputs": [],
   "source": [
    "import time\n",
    "\n",
    "def eggholder_objective(x):\n",
    "    '''Evaluates x on the eggholder function (minimizing)\n",
    "    \n",
    "    x: a list/array of length 2 with each value in [0, 1]\n",
    "    '''\n",
    "    start = time.time()\n",
    "    bound_range = [bounds[0][1] - bounds[0][0]]\n",
    "    bound_range.append(bounds[1][1] - bounds[1][0])\n",
    "    bound_min = [bounds[0][0]]\n",
    "    bound_min.append(bounds[1][0])\n",
    "    x_new = x.copy()\n",
    "    for i in range(len(x)):\n",
    "        x_new[i] = bound_min[i] + x[i] * bound_range[i]\n",
    "    \n",
    "    # the fitness which determines the selection process in DE\n",
    "    ## the lower the fitness value, the better is x adjudged to be\n",
    "    fitness = eggholder(x_new)\n",
    "    # runtime of objective, or None, or equivalent\n",
    "    cost = time.time() - start \n",
    "    \n",
    "    return fitness, cost"
   ]
  },
  {
   "cell_type": "code",
   "execution_count": 23,
   "metadata": {},
   "outputs": [
    {
     "name": "stdout",
     "output_type": "stream",
     "text": [
      "CPU times: user 0 ns, sys: 12 µs, total: 12 µs\n",
      "Wall time: 21.5 µs\n"
     ]
    }
   ],
   "source": [
    "%%time\n",
    "\n",
    "### introducing sleep\n",
    "\n",
    "sleep_low = 0.2\n",
    "sleep_high = 0.5\n",
    "\n",
    "def eggholder_objective_sleep(x):\n",
    "    '''Evaluates x on the eggholder function (minimizing)\n",
    "    \n",
    "    x: a list/array of length 2 with each value in [0, 1]\n",
    "    '''\n",
    "    start = time.time()\n",
    "    bound_range = [bounds[0][1] - bounds[0][0]]\n",
    "    bound_range.append(bounds[1][1] - bounds[1][0])\n",
    "    bound_min = [bounds[0][0]]\n",
    "    bound_min.append(bounds[1][0])\n",
    "    x_new = x.copy()\n",
    "    for i in range(len(x)):\n",
    "        x_new[i] = bound_min[i] + x[i] * bound_range[i]\n",
    "    \n",
    "    # the fitness which determines the selection process in DE\n",
    "    ## the lower the fitness value, the better is x adjudged to be\n",
    "    fitness = eggholder(x_new)\n",
    "    # 25% chance of a long sleep of 2 seconds to simulate bottlenecks\n",
    "    if np.random.uniform() > 0.75:\n",
    "        time.sleep(2)\n",
    "    else:\n",
    "        time.sleep(np.random.uniform(low=sleep_low, high=sleep_high))\n",
    "    # runtime of objective, or None, or equivalent\n",
    "    cost = time.time() - start \n",
    "    \n",
    "    return fitness, cost"
   ]
  },
  {
   "cell_type": "code",
   "execution_count": 24,
   "metadata": {},
   "outputs": [],
   "source": [
    "from denas import DE, PDE, AsyncPDE"
   ]
  },
  {
   "cell_type": "code",
   "execution_count": 25,
   "metadata": {},
   "outputs": [
    {
     "name": "stdout",
     "output_type": "stream",
     "text": [
      "Initializing and evaluating new population...\n",
      "Running evolutionary search...\n",
      "Generation 1 /10 -- -547.8635\n",
      "Generation 2 /10 -- -547.8635\n",
      "Generation 3 /10 -- -794.7629\n",
      "Generation 4 /10 -- -794.7629\n",
      "Generation 5 /10 -- -794.7629\n",
      "Generation 6 /10 -- -794.7629\n",
      "Generation 7 /10 -- -794.7629\n",
      "Generation 8 /10 -- -794.7629\n",
      "Generation 9 /10 -- -794.7629\n",
      "Generation 10/10 -- -794.7629\n",
      "\n",
      "Run complete!\n",
      "Time taken for sequential processing: 164.77414059638977 seconds\n",
      "[0.06276866 0.88686323] -794.7628545499281\n"
     ]
    }
   ],
   "source": [
    "# Sequential\n",
    "\n",
    "de = DE(\n",
    "    dimensions=len(bounds),\n",
    "    configspace=False,            # if passing a custom search space and not ConfigSpace\n",
    "    f=eggholder_objective_sleep,  # passing the objective function\n",
    "    pop_size=20,                  # tunable hyperparameter (minimum limit determined by mutation strategy)\n",
    "    mutation_factor=0.5,          # tunable hyperparameter (determines exploration)\n",
    "    crossover_prob=0.5,           # tunable hyperparameter (determines exploitation)\n",
    "    strategy='rand1_bin',         # tunable hyperparameter (trades-off exploration-exploitation)\n",
    ")\n",
    "start = time.time()\n",
    "traj, runtime, hist = de.run(generations=10, verbose=True)\n",
    "end = time.time() - start\n",
    "    \n",
    "print(\"Time taken for sequential processing: {} seconds\".format(end))\n",
    "print(de.inc_config, de.inc_score)"
   ]
  },
  {
   "cell_type": "code",
   "execution_count": 26,
   "metadata": {},
   "outputs": [
    {
     "name": "stdout",
     "output_type": "stream",
     "text": [
      "Initializing and evaluating new population...\n",
      "Running evolutionary search...\n",
      "Generation 1 /10 -- -700.0901\n",
      "Generation 2 /10 -- -700.0901\n",
      "Generation 3 /10 -- -700.0901\n",
      "Generation 4 /10 -- -700.0901\n",
      "Generation 5 /10 -- -700.0901\n",
      "Generation 6 /10 -- -700.0901\n",
      "Generation 7 /10 -- -700.0901\n",
      "Generation 8 /10 -- -700.0901\n",
      "Generation 9 /10 -- -700.0901\n",
      "Generation 10/10 -- -741.1396\n",
      "\n",
      "Run complete!\n",
      "Time to initialise client: 0.00013637542724609375 seconds\n",
      "Time taken for parallel processing with 1 workers: 163.5778317451477 seconds\n",
      "[0.99217751 0.87456858] -741.1396119056885\n"
     ]
    }
   ],
   "source": [
    "# Parallel (1 worker)\n",
    "\n",
    "num_workers = 1\n",
    "\n",
    "start = time.time()\n",
    "de = PDE(\n",
    "    dimensions=len(bounds),\n",
    "    configspace=False,            # if passing a custom search space and not ConfigSpace\n",
    "    f=eggholder_objective_sleep,  # passing the objective function\n",
    "    pop_size=20,                  # tunable hyperparameter (minimum limit determined by mutation strategy)\n",
    "    mutation_factor=0.5,          # tunable hyperparameter (determines exploration)\n",
    "    crossover_prob=0.5,           # tunable hyperparameter (determines exploitation)\n",
    "    strategy='rand1_bin',         # tunable hyperparameter (trades-off exploration-exploitation)\n",
    "    num_workers=num_workers\n",
    ")\n",
    "load_time = time.time() - start\n",
    "start = time.time()\n",
    "traj, runtime, hist = de.run(generations=10, verbose=True)\n",
    "end = time.time() - start\n",
    "    \n",
    "print(\"Time to initialise client: {} seconds\".format(load_time))\n",
    "print(\"Time taken for parallel processing with {} workers: {} seconds\".format(num_workers, end))\n",
    "print(de.inc_config, de.inc_score)"
   ]
  },
  {
   "cell_type": "code",
   "execution_count": 29,
   "metadata": {},
   "outputs": [
    {
     "name": "stdout",
     "output_type": "stream",
     "text": [
      "Initializing and evaluating new population...\n",
      "Running evolutionary search...\n",
      "Generation 1 /10 -- -425.5248\n",
      "Generation 2 /10 -- -538.0669\n",
      "Generation 3 /10 -- -538.0669\n",
      "Generation 4 /10 -- -630.6388\n",
      "Generation 5 /10 -- -630.6388\n",
      "Generation 6 /10 -- -630.6388\n",
      "Generation 7 /10 -- -638.312\n",
      "Generation 8 /10 -- -638.312\n",
      "Generation 9 /10 -- -638.312\n",
      "Generation 10/10 -- -750.5804\n",
      "\n",
      "Run complete!\n",
      "Time to initialise client: 0.00013947486877441406 seconds\n",
      "Time taken for parallel processing with 2 workers: 84.96044039726257 seconds\n",
      "[0.11792983 0.09285839] -750.5804122818176\n"
     ]
    }
   ],
   "source": [
    "# Parallel (2 workers)\n",
    "\n",
    "num_workers = 2\n",
    "\n",
    "start = time.time()\n",
    "de = PDE(\n",
    "    dimensions=len(bounds),\n",
    "    configspace=False,            # if passing a custom search space and not ConfigSpace\n",
    "    f=eggholder_objective_sleep,  # passing the objective function\n",
    "    pop_size=20,                  # tunable hyperparameter (minimum limit determined by mutation strategy)\n",
    "    mutation_factor=0.5,          # tunable hyperparameter (determines exploration)\n",
    "    crossover_prob=0.5,           # tunable hyperparameter (determines exploitation)\n",
    "    strategy='rand1_bin',         # tunable hyperparameter (trades-off exploration-exploitation)\n",
    "    num_workers=num_workers\n",
    ")\n",
    "load_time = time.time() - start\n",
    "start = time.time()\n",
    "traj, runtime, hist = de.run(generations=10, verbose=True)\n",
    "end = time.time() - start\n",
    "    \n",
    "print(\"Time to initialise client: {} seconds\".format(load_time))\n",
    "print(\"Time taken for parallel processing with {} workers: {} seconds\".format(num_workers, end))\n",
    "print(de.inc_config, de.inc_score)"
   ]
  },
  {
   "cell_type": "code",
   "execution_count": 27,
   "metadata": {},
   "outputs": [
    {
     "name": "stdout",
     "output_type": "stream",
     "text": [
      "Initializing and evaluating new population...\n",
      "Running evolutionary search...\n",
      "Generation 1 /10 -- -416.1928\n",
      "Generation 2 /10 -- -436.4751\n",
      "Generation 3 /10 -- -436.4751\n",
      "Generation 4 /10 -- -541.1988\n",
      "Generation 5 /10 -- -853.7498\n",
      "Generation 6 /10 -- -853.7498\n",
      "Generation 7 /10 -- -853.7498\n",
      "Generation 8 /10 -- -853.7498\n",
      "Generation 9 /10 -- -853.7498\n",
      "Generation 10/10 -- -853.7498\n",
      "\n",
      "Run complete!\n",
      "Time to initialise client: 0.0003871917724609375 seconds\n",
      "Time taken for parallel processing with 4 workers: 47.543803215026855 seconds\n",
      "[0.82788893 0.98450151] -866.91432169631\n"
     ]
    }
   ],
   "source": [
    "# Parallel (4 workers)\n",
    "\n",
    "num_workers = 4\n",
    "\n",
    "start = time.time()\n",
    "de = PDE(\n",
    "    dimensions=len(bounds),\n",
    "    configspace=False,            # if passing a custom search space and not ConfigSpace\n",
    "    f=eggholder_objective_sleep,  # passing the objective function\n",
    "    pop_size=20,                  # tunable hyperparameter (minimum limit determined by mutation strategy)\n",
    "    mutation_factor=0.5,          # tunable hyperparameter (determines exploration)\n",
    "    crossover_prob=0.5,           # tunable hyperparameter (determines exploitation)\n",
    "    strategy='rand1_bin',         # tunable hyperparameter (trades-off exploration-exploitation)\n",
    "    num_workers=num_workers\n",
    ")\n",
    "load_time = time.time() - start\n",
    "start = time.time()\n",
    "traj, runtime, hist = de.run(generations=10, verbose=True)\n",
    "end = time.time() - start\n",
    "    \n",
    "print(\"Time to initialise client: {} seconds\".format(load_time))\n",
    "print(\"Time taken for parallel processing with {} workers: {} seconds\".format(num_workers, end))\n",
    "print(de.inc_config, de.inc_score)"
   ]
  },
  {
   "cell_type": "code",
   "execution_count": 28,
   "metadata": {},
   "outputs": [
    {
     "name": "stdout",
     "output_type": "stream",
     "text": [
      "Initializing and evaluating new population...\n",
      "Running evolutionary search...\n",
      "Generation 1 /10 -- -882.5454\n",
      "Generation 2 /10 -- -882.5454\n",
      "Generation 3 /10 -- -882.5454\n",
      "Generation 4 /10 -- -882.5454\n",
      "Generation 5 /10 -- -882.5454\n",
      "Generation 6 /10 -- -882.5454\n",
      "Generation 7 /10 -- -882.5454\n",
      "Generation 8 /10 -- -882.5454\n",
      "Generation 9 /10 -- -882.5454\n",
      "Generation 10/10 -- -882.5454\n",
      "\n",
      "Run complete!\n",
      "Time to initialise client: 0.00017309188842773438 seconds\n",
      "Time taken for parallel processing with 20 workers: 25.20801043510437 seconds\n",
      "[0.97180013 0.93021658] -882.5453891573479\n"
     ]
    }
   ],
   "source": [
    "# Parallel (20 workers)\n",
    "\n",
    "num_workers = 20\n",
    "\n",
    "start = time.time()\n",
    "de = PDE(\n",
    "    dimensions=len(bounds),\n",
    "    configspace=False,            # if passing a custom search space and not ConfigSpace\n",
    "    f=eggholder_objective_sleep,  # passing the objective function\n",
    "    pop_size=20,                  # tunable hyperparameter (minimum limit determined by mutation strategy)\n",
    "    mutation_factor=0.5,          # tunable hyperparameter (determines exploration)\n",
    "    crossover_prob=0.5,           # tunable hyperparameter (determines exploitation)\n",
    "    strategy='rand1_bin',         # tunable hyperparameter (trades-off exploration-exploitation)\n",
    "    num_workers=num_workers\n",
    ")\n",
    "load_time = time.time() - start\n",
    "start = time.time()\n",
    "traj, runtime, hist = de.run(generations=10, verbose=True)\n",
    "end = time.time() - start\n",
    "    \n",
    "print(\"Time to initialise client: {} seconds\".format(load_time))\n",
    "print(\"Time taken for parallel processing with {} workers: {} seconds\".format(num_workers, end))\n",
    "print(de.inc_config, de.inc_score)"
   ]
  },
  {
   "cell_type": "markdown",
   "metadata": {},
   "source": [
    "<br>\n",
    "\n",
    "Time taken for 10 DE generations with pop-size 20. <br>\n",
    "\n",
    "\n",
    "| Sequential | Parallel (n=1) | Parallel (n=2) | Parallel (n=4) | Parallel (n=20) |\n",
    "| :-: | :-: | :-: | :-: | :-: |\n",
    "| 164.78 | 163.58 | 84.96 | 47.54 | 25.21 | "
   ]
  },
  {
   "cell_type": "markdown",
   "metadata": {},
   "source": []
  }
 ],
 "metadata": {
  "kernelspec": {
   "display_name": "Python 3",
   "language": "python",
   "name": "python3"
  },
  "language_info": {
   "codemirror_mode": {
    "name": "ipython",
    "version": 3
   },
   "file_extension": ".py",
   "mimetype": "text/x-python",
   "name": "python",
   "nbconvert_exporter": "python",
   "pygments_lexer": "ipython3",
   "version": "3.6.9"
  }
 },
 "nbformat": 4,
 "nbformat_minor": 2
}
